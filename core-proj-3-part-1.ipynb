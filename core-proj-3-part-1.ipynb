{
 "cells": [
  {
   "cell_type": "markdown",
   "id": "ce3e0f4f-13bf-4df4-8884-9966c1d4e351",
   "metadata": {},
   "source": [
    "# Project 3 Part 1\n",
    "\n",
    "For Part 1, you will be downloading and preparing a crime dataset for time series analysis.\n",
    "\n",
    "\n",
    "You will then answer the provided stakeholder questions and support your answers with visualizations."
   ]
  },
  {
   "cell_type": "markdown",
   "id": "44e203c8-cc41-4d71-ad65-7251e938d859",
   "metadata": {},
   "source": [
    "## Questions\n",
    "\n",
    "1) Comparing Police Districts: Which district had the most crimes in 2022? Which had the least?\n",
    "\n",
    "5) Comparing Holidays: ​What are the top 3 holidays with the largest number of crime?\n",
    "\n",
    "  For each of the top 3 holidays with the most crime, what are the top 5 most common crimes on that holiday?"
   ]
  },
  {
   "cell_type": "markdown",
   "id": "bc6d0cfc-0f89-41ec-8c41-bb2161358039",
   "metadata": {},
   "source": [
    "### Question 1: Comparing Police Districts"
   ]
  },
  {
   "cell_type": "code",
   "execution_count": 4,
   "id": "b0114022-f2a9-4971-8ec2-1c6c545adcf9",
   "metadata": {},
   "outputs": [],
   "source": [
    "# import packages\n",
    "import pandas as pd\n",
    "import numpy as np\n",
    "import matplotlib as mpl\n",
    "import matplotlib.pyplot as plt\n",
    "import seaborn as sns\n",
    "import os"
   ]
  },
  {
   "cell_type": "code",
   "execution_count": 3,
   "id": "3aa90b1a-02b8-4918-901c-34a4a0a5169d",
   "metadata": {},
   "outputs": [
    {
     "data": {
      "text/html": [
       "<div>\n",
       "<style scoped>\n",
       "    .dataframe tbody tr th:only-of-type {\n",
       "        vertical-align: middle;\n",
       "    }\n",
       "\n",
       "    .dataframe tbody tr th {\n",
       "        vertical-align: top;\n",
       "    }\n",
       "\n",
       "    .dataframe thead th {\n",
       "        text-align: right;\n",
       "    }\n",
       "</style>\n",
       "<table border=\"1\" class=\"dataframe\">\n",
       "  <thead>\n",
       "    <tr style=\"text-align: right;\">\n",
       "      <th></th>\n",
       "      <th>ID</th>\n",
       "      <th>Date</th>\n",
       "      <th>Primary Type</th>\n",
       "      <th>Description</th>\n",
       "      <th>Location Description</th>\n",
       "      <th>Arrest</th>\n",
       "      <th>Domestic</th>\n",
       "      <th>Beat</th>\n",
       "      <th>District</th>\n",
       "      <th>Ward</th>\n",
       "      <th>Latitude</th>\n",
       "      <th>Longitude</th>\n",
       "    </tr>\n",
       "  </thead>\n",
       "  <tbody>\n",
       "    <tr>\n",
       "      <th>0</th>\n",
       "      <td>12582293</td>\n",
       "      <td>01/01/2022 01:00:00 PM</td>\n",
       "      <td>THEFT</td>\n",
       "      <td>$500 AND UNDER</td>\n",
       "      <td>RESTAURANT</td>\n",
       "      <td>False</td>\n",
       "      <td>False</td>\n",
       "      <td>121</td>\n",
       "      <td>1.0</td>\n",
       "      <td>42.0</td>\n",
       "      <td>41.881884</td>\n",
       "      <td>-87.640060</td>\n",
       "    </tr>\n",
       "    <tr>\n",
       "      <th>1</th>\n",
       "      <td>12607313</td>\n",
       "      <td>01/01/2022 01:00:00 PM</td>\n",
       "      <td>DECEPTIVE PRACTICE</td>\n",
       "      <td>FINANCIAL IDENTITY THEFT $300 AND UNDER</td>\n",
       "      <td>BANK</td>\n",
       "      <td>False</td>\n",
       "      <td>False</td>\n",
       "      <td>811</td>\n",
       "      <td>8.0</td>\n",
       "      <td>23.0</td>\n",
       "      <td>41.787923</td>\n",
       "      <td>-87.769446</td>\n",
       "    </tr>\n",
       "    <tr>\n",
       "      <th>2</th>\n",
       "      <td>12585671</td>\n",
       "      <td>01/01/2022 01:00:00 AM</td>\n",
       "      <td>CRIMINAL DAMAGE</td>\n",
       "      <td>TO VEHICLE</td>\n",
       "      <td>PARKING LOT / GARAGE (NON RESIDENTIAL)</td>\n",
       "      <td>False</td>\n",
       "      <td>False</td>\n",
       "      <td>531</td>\n",
       "      <td>5.0</td>\n",
       "      <td>9.0</td>\n",
       "      <td>41.687443</td>\n",
       "      <td>-87.604120</td>\n",
       "    </tr>\n",
       "    <tr>\n",
       "      <th>3</th>\n",
       "      <td>12592889</td>\n",
       "      <td>01/01/2022 01:00:00 AM</td>\n",
       "      <td>OTHER OFFENSE</td>\n",
       "      <td>HARASSMENT BY TELEPHONE</td>\n",
       "      <td>APARTMENT</td>\n",
       "      <td>False</td>\n",
       "      <td>False</td>\n",
       "      <td>412</td>\n",
       "      <td>4.0</td>\n",
       "      <td>8.0</td>\n",
       "      <td>41.734353</td>\n",
       "      <td>-87.585147</td>\n",
       "    </tr>\n",
       "    <tr>\n",
       "      <th>4</th>\n",
       "      <td>12584977</td>\n",
       "      <td>01/01/2022 01:00:00 AM</td>\n",
       "      <td>THEFT</td>\n",
       "      <td>$500 AND UNDER</td>\n",
       "      <td>OTHER (SPECIFY)</td>\n",
       "      <td>False</td>\n",
       "      <td>False</td>\n",
       "      <td>1811</td>\n",
       "      <td>18.0</td>\n",
       "      <td>2.0</td>\n",
       "      <td>41.910818</td>\n",
       "      <td>-87.654560</td>\n",
       "    </tr>\n",
       "  </tbody>\n",
       "</table>\n",
       "</div>"
      ],
      "text/plain": [
       "         ID                    Date        Primary Type  \\\n",
       "0  12582293  01/01/2022 01:00:00 PM               THEFT   \n",
       "1  12607313  01/01/2022 01:00:00 PM  DECEPTIVE PRACTICE   \n",
       "2  12585671  01/01/2022 01:00:00 AM     CRIMINAL DAMAGE   \n",
       "3  12592889  01/01/2022 01:00:00 AM       OTHER OFFENSE   \n",
       "4  12584977  01/01/2022 01:00:00 AM               THEFT   \n",
       "\n",
       "                               Description  \\\n",
       "0                           $500 AND UNDER   \n",
       "1  FINANCIAL IDENTITY THEFT $300 AND UNDER   \n",
       "2                               TO VEHICLE   \n",
       "3                  HARASSMENT BY TELEPHONE   \n",
       "4                           $500 AND UNDER   \n",
       "\n",
       "                     Location Description  Arrest  Domestic  Beat  District  \\\n",
       "0                              RESTAURANT   False     False   121       1.0   \n",
       "1                                    BANK   False     False   811       8.0   \n",
       "2  PARKING LOT / GARAGE (NON RESIDENTIAL)   False     False   531       5.0   \n",
       "3                               APARTMENT   False     False   412       4.0   \n",
       "4                         OTHER (SPECIFY)   False     False  1811      18.0   \n",
       "\n",
       "   Ward   Latitude  Longitude  \n",
       "0  42.0  41.881884 -87.640060  \n",
       "1  23.0  41.787923 -87.769446  \n",
       "2   9.0  41.687443 -87.604120  \n",
       "3   8.0  41.734353 -87.585147  \n",
       "4   2.0  41.910818 -87.654560  "
      ]
     },
     "execution_count": 3,
     "metadata": {},
     "output_type": "execute_result"
    }
   ],
   "source": [
    "# import data\n",
    "df_22 = pd.read_csv('Data/Chicago-Crime_2022.csv')\n",
    "df_22.head()"
   ]
  },
  {
   "cell_type": "code",
   "execution_count": 7,
   "id": "e6135b02-5aa5-4062-96d2-17ace7af4e2d",
   "metadata": {},
   "outputs": [
    {
     "data": {
      "text/plain": [
       "8.0     14805\n",
       "6.0     14694\n",
       "12.0    14341\n",
       "4.0     13931\n",
       "11.0    13457\n",
       "1.0     13044\n",
       "18.0    12429\n",
       "19.0    12243\n",
       "25.0    11951\n",
       "3.0     11937\n",
       "2.0     11793\n",
       "9.0     10376\n",
       "7.0     10319\n",
       "10.0     9961\n",
       "5.0      9773\n",
       "16.0     9226\n",
       "24.0     8469\n",
       "15.0     8308\n",
       "14.0     8158\n",
       "22.0     7671\n",
       "17.0     6997\n",
       "20.0     4960\n",
       "31.0       15\n",
       "Name: District, dtype: int64"
      ]
     },
     "execution_count": 7,
     "metadata": {},
     "output_type": "execute_result"
    }
   ],
   "source": [
    "# view columns\n",
    "df_22['District'].value_counts()"
   ]
  },
  {
   "cell_type": "markdown",
   "id": "a086d5f8-ac55-4fbd-a47a-c6f02f8aadc5",
   "metadata": {},
   "source": [
    "### Answer 1:\n",
    "Most: District 8\n",
    "Least: District 31"
   ]
  },
  {
   "cell_type": "code",
   "execution_count": null,
   "id": "8d8342f8-e783-47f1-a30e-4dd523315281",
   "metadata": {},
   "outputs": [],
   "source": []
  },
  {
   "cell_type": "code",
   "execution_count": null,
   "id": "98f2329a-cbc2-4d61-9600-19383490846b",
   "metadata": {},
   "outputs": [],
   "source": []
  }
 ],
 "metadata": {
  "kernelspec": {
   "display_name": "Python (dojo-env)",
   "language": "python",
   "name": "dojo-env"
  },
  "language_info": {
   "codemirror_mode": {
    "name": "ipython",
    "version": 3
   },
   "file_extension": ".py",
   "mimetype": "text/x-python",
   "name": "python",
   "nbconvert_exporter": "python",
   "pygments_lexer": "ipython3",
   "version": "3.10.10"
  },
  "widgets": {
   "application/vnd.jupyter.widget-state+json": {
    "state": {},
    "version_major": 2,
    "version_minor": 0
   }
  }
 },
 "nbformat": 4,
 "nbformat_minor": 5
}
